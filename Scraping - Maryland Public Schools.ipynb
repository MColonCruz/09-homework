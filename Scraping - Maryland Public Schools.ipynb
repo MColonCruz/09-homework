{
 "cells": [
  {
   "cell_type": "markdown",
   "id": "98737b3a",
   "metadata": {},
   "source": [
    "## Maryland Public Schools\n",
    "Scrape https://www.marylandpublicschools.org/stateboard/Pages/Meetings-2018.aspx (Links to an external site.) \n",
    "\n",
    "* Tier 1: Scrape the date, URL to agenda, URL to board minutes \n",
    "\n",
    "* Tier 2: Download agenda items to an \"agendas\" folder and board minutes to a \"minutes\" folder"
   ]
  },
  {
   "cell_type": "code",
   "execution_count": null,
   "id": "0727ea92",
   "metadata": {},
   "outputs": [],
   "source": [
    "import pandas as pd\n",
    "from bs4 import BeautifulSoup\n",
    "import requests"
   ]
  },
  {
   "cell_type": "code",
   "execution_count": null,
   "id": "19c14098",
   "metadata": {},
   "outputs": [],
   "source": [
    "response = requests.get('https://www.marylandpublicschools.org/stateboard/Pages/Meetings-2018.aspx')\n",
    "doc = BeautifulSoup(response.text)\n",
    "doc"
   ]
  },
  {
   "cell_type": "code",
   "execution_count": null,
   "id": "315e7a32",
   "metadata": {},
   "outputs": [],
   "source": [
    "# Scrape the date, URL to agenda, URL to board minutes\n",
    "table = doc.find(\"table\")\n",
    "table"
   ]
  },
  {
   "cell_type": "code",
   "execution_count": null,
   "id": "e051d670",
   "metadata": {},
   "outputs": [],
   "source": [
    "table.select(\"tr\")[2].find('a')['href']"
   ]
  },
  {
   "cell_type": "code",
   "execution_count": null,
   "id": "a4c4a145",
   "metadata": {},
   "outputs": [],
   "source": [
    "board = []\n",
    "for row in table.select('tr')[2:]:\n",
    "    print(row.find_all('td')[1].find('a').text)\n",
    "    print(row.find_all('td')[1].find('a')['href'])\n",
    "    print(row.find_all('td')[2].find('a')['href'])\n",
    "    print('-----')"
   ]
  },
  {
   "cell_type": "code",
   "execution_count": null,
   "id": "e513c26e",
   "metadata": {
    "scrolled": true
   },
   "outputs": [],
   "source": [
    "boards = []\n",
    "for row in table.select('tr')[2:]:\n",
    "    dates = (row.find_all('td')[1].find('a').text)\n",
    "    agenda = (row.find_all('td')[1].find('a')['href'])\n",
    "    minutes = (row.find_all('td')[2].find('a')['href'])\n",
    "\n",
    "    board = {\n",
    "        \n",
    "        'dates' : dates,\n",
    "        'agenda': \"https://www.marylandpublicschools.org\" + agenda,\n",
    "        'minutes' : \"https://www.marylandpublicschools.org/\" + board_minutes\n",
    "    }\n",
    "    \n",
    "    boards.append(board)\n",
    "\n",
    "df = pd.DataFrame(boards)\n",
    "df"
   ]
  },
  {
   "cell_type": "code",
   "execution_count": null,
   "id": "a0c19384",
   "metadata": {},
   "outputs": [],
   "source": [
    "# create a list of boards_minutes urls\n",
    "urls = []\n",
    "# *** Added the following because downloading 'minute' just printed one of them.\n",
    "number_pdf = 0\n",
    "\n",
    "for minute in table.select('tr')[2:]:\n",
    "    minute = (\"https://www.marylandpublicschools.org/\" + board_minutes)\n",
    "# ***\n",
    "    number_pdf = number_pdf + 1\n",
    "    name_pdf = \"minute\" + str(number_pdf) + \".pdf\"\n",
    "    \n",
    "    urls.append(minute)\n",
    "\n",
    "    urlretrieve(minute, name_pdf)"
   ]
  },
  {
   "cell_type": "code",
   "execution_count": null,
   "id": "1b0fe6d6",
   "metadata": {},
   "outputs": [],
   "source": [
    "# create a list of boards_minutes urls\n",
    "# links = []\n",
    "\n",
    "# number_pdf = 0\n",
    "\n",
    "# for agenda in table.select('tr')[2:]:\n",
    "#     agenda = (\"https://www.marylandpublicschools.org/\" + (row.find_all('td')[1].find('a')['href']))\n",
    "#     number_pdf = number_pdf + 1\n",
    "#     name_agenda = \"agenda\" + str(number_pdf) + \".pdf\"\n",
    "    \n",
    "#     links.append(agenda)\n",
    "\n",
    "#     urlretrieve(agenda, name_pdf)"
   ]
  },
  {
   "cell_type": "code",
   "execution_count": null,
   "id": "273cd8c9",
   "metadata": {
    "scrolled": true
   },
   "outputs": [],
   "source": [
    "# for link in list_agenda:\n",
    "#     print('Downloading', agenda)\n",
    "#     urlretrieve(agenda, name_agenda)"
   ]
  },
  {
   "cell_type": "code",
   "execution_count": null,
   "id": "7694927e",
   "metadata": {},
   "outputs": [],
   "source": []
  },
  {
   "cell_type": "code",
   "execution_count": null,
   "id": "2a6c6384",
   "metadata": {},
   "outputs": [],
   "source": []
  },
  {
   "cell_type": "code",
   "execution_count": null,
   "id": "55b80660",
   "metadata": {},
   "outputs": [],
   "source": []
  },
  {
   "cell_type": "code",
   "execution_count": null,
   "id": "41021e20",
   "metadata": {},
   "outputs": [],
   "source": []
  },
  {
   "cell_type": "code",
   "execution_count": null,
   "id": "c989faba",
   "metadata": {},
   "outputs": [],
   "source": []
  }
 ],
 "metadata": {
  "kernelspec": {
   "display_name": "Python 3 (ipykernel)",
   "language": "python",
   "name": "python3"
  },
  "language_info": {
   "codemirror_mode": {
    "name": "ipython",
    "version": 3
   },
   "file_extension": ".py",
   "mimetype": "text/x-python",
   "name": "python",
   "nbconvert_exporter": "python",
   "pygments_lexer": "ipython3",
   "version": "3.10.3"
  }
 },
 "nbformat": 4,
 "nbformat_minor": 5
}
